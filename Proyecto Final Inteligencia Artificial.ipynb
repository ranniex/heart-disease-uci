{
 "cells": [
  {
   "attachments": {},
   "cell_type": "markdown",
   "metadata": {},
   "source": [
    "# Proyecto Final Inteligencia Artificial \n",
    "# Universidad del Valle \n",
    "### Presentado por:\n",
    "### Samir Valencia - 1629607\n",
    "### Cristian Manosalva - 1628397\n",
    "A continuación se presenta el Notebook preparado para desarrollar diferentes sistemas de predicción para enfermedades cardiacas."
   ]
  },
  {
   "cell_type": "markdown",
   "metadata": {},
   "source": [
    "# Requerimientos\n",
    "Para ejecutar el siguiente Notebook partimos de un punto base: Haber instalado Anaconda. Ya habiendo instalado Anaconda, procedemos a instalar algunas librerias adicionales que usaremos y no pertenecen a Anaconda, estas librerias se instalan a continuacion."
   ]
  },
  {
   "cell_type": "code",
   "execution_count": 1,
   "metadata": {},
   "outputs": [
    {
     "name": "stdout",
     "output_type": "stream",
     "text": [
      "Requirement already satisfied: pydotplus in c:\\users\\depor\\anaconda3\\lib\\site-packages (2.0.2)\n",
      "Requirement already satisfied: pyparsing>=2.0.1 in c:\\users\\depor\\anaconda3\\lib\\site-packages (from pydotplus) (2.4.0)\n",
      "Requirement already satisfied: graphviz in c:\\users\\depor\\anaconda3\\lib\\site-packages (0.13)\n"
     ]
    }
   ],
   "source": [
    "!pip install pydotplus\n",
    "!pip install graphviz"
   ]
  },
  {
   "cell_type": "markdown",
   "metadata": {},
   "source": [
    "A continuación, importamos las librerias que se usaran a lo largo de la implementación.\n",
    "\n",
    "Cabe resaltar que se utiliza uno de los 'Magic' de Jupyter Notebooks para permitir graficas."
   ]
  },
  {
   "cell_type": "code",
   "execution_count": 2,
   "metadata": {},
   "outputs": [],
   "source": [
    "from matplotlib import pyplot as plt\n",
    "import pandas as pd\n",
    "import numpy as np # Confirmar si se usa\n",
    "import sklearn as sk\n",
    "from sklearn.model_selection import train_test_split\n",
    "from sklearn.metrics import confusion_matrix\n",
    "from sklearn.naive_bayes import GaussianNB\n",
    "from sklearn import tree\n",
    "import graphviz\n",
    "import pydotplus\n",
    "import io\n",
    "from scipy import misc # Confirmar si se usa\n",
    "from sklearn.tree import export_graphviz\n",
    "import sklearn.neural_network\n",
    "from sklearn.preprocessing import StandardScaler\n",
    "\n",
    "%matplotlib inline"
   ]
  },
  {
   "cell_type": "markdown",
   "metadata": {},
   "source": [
    "# Cargar el DataFrame \n",
    "Para comenzar, cargaremos el Dataset propuesto para el proyecto en el cual la columna objetivo es target.\n",
    "##### El Dataset se debe encontrar en la misma carpeta que el Notebook."
   ]
  },
  {
   "cell_type": "code",
   "execution_count": 3,
   "metadata": {},
   "outputs": [],
   "source": [
    "dataFrame=pd.read_csv(\"heart.csv\")\n",
    "df = pd.DataFrame(dataFrame)"
   ]
  },
  {
   "cell_type": "markdown",
   "metadata": {},
   "source": [
    "Ahora podemos observar que el DataFrame se ha cargado correctamente"
   ]
  },
  {
   "cell_type": "code",
   "execution_count": 4,
   "metadata": {
    "scrolled": false
   },
   "outputs": [
    {
     "data": {
      "text/html": [
       "<div>\n",
       "<style scoped>\n",
       "    .dataframe tbody tr th:only-of-type {\n",
       "        vertical-align: middle;\n",
       "    }\n",
       "\n",
       "    .dataframe tbody tr th {\n",
       "        vertical-align: top;\n",
       "    }\n",
       "\n",
       "    .dataframe thead th {\n",
       "        text-align: right;\n",
       "    }\n",
       "</style>\n",
       "<table border=\"1\" class=\"dataframe\">\n",
       "  <thead>\n",
       "    <tr style=\"text-align: right;\">\n",
       "      <th></th>\n",
       "      <th>age</th>\n",
       "      <th>sex</th>\n",
       "      <th>cp</th>\n",
       "      <th>trestbps</th>\n",
       "      <th>chol</th>\n",
       "      <th>fbs</th>\n",
       "      <th>restecg</th>\n",
       "      <th>thalach</th>\n",
       "      <th>exang</th>\n",
       "      <th>oldpeak</th>\n",
       "      <th>slope</th>\n",
       "      <th>ca</th>\n",
       "      <th>thal</th>\n",
       "      <th>target</th>\n",
       "    </tr>\n",
       "  </thead>\n",
       "  <tbody>\n",
       "    <tr>\n",
       "      <th>0</th>\n",
       "      <td>63</td>\n",
       "      <td>1</td>\n",
       "      <td>3</td>\n",
       "      <td>145</td>\n",
       "      <td>233</td>\n",
       "      <td>1</td>\n",
       "      <td>0</td>\n",
       "      <td>150</td>\n",
       "      <td>0</td>\n",
       "      <td>2.3</td>\n",
       "      <td>0</td>\n",
       "      <td>0</td>\n",
       "      <td>1</td>\n",
       "      <td>1</td>\n",
       "    </tr>\n",
       "    <tr>\n",
       "      <th>1</th>\n",
       "      <td>37</td>\n",
       "      <td>1</td>\n",
       "      <td>2</td>\n",
       "      <td>130</td>\n",
       "      <td>250</td>\n",
       "      <td>0</td>\n",
       "      <td>1</td>\n",
       "      <td>187</td>\n",
       "      <td>0</td>\n",
       "      <td>3.5</td>\n",
       "      <td>0</td>\n",
       "      <td>0</td>\n",
       "      <td>2</td>\n",
       "      <td>1</td>\n",
       "    </tr>\n",
       "    <tr>\n",
       "      <th>2</th>\n",
       "      <td>41</td>\n",
       "      <td>0</td>\n",
       "      <td>1</td>\n",
       "      <td>130</td>\n",
       "      <td>204</td>\n",
       "      <td>0</td>\n",
       "      <td>0</td>\n",
       "      <td>172</td>\n",
       "      <td>0</td>\n",
       "      <td>1.4</td>\n",
       "      <td>2</td>\n",
       "      <td>0</td>\n",
       "      <td>2</td>\n",
       "      <td>1</td>\n",
       "    </tr>\n",
       "    <tr>\n",
       "      <th>3</th>\n",
       "      <td>56</td>\n",
       "      <td>1</td>\n",
       "      <td>1</td>\n",
       "      <td>120</td>\n",
       "      <td>236</td>\n",
       "      <td>0</td>\n",
       "      <td>1</td>\n",
       "      <td>178</td>\n",
       "      <td>0</td>\n",
       "      <td>0.8</td>\n",
       "      <td>2</td>\n",
       "      <td>0</td>\n",
       "      <td>2</td>\n",
       "      <td>1</td>\n",
       "    </tr>\n",
       "    <tr>\n",
       "      <th>4</th>\n",
       "      <td>57</td>\n",
       "      <td>0</td>\n",
       "      <td>0</td>\n",
       "      <td>120</td>\n",
       "      <td>354</td>\n",
       "      <td>0</td>\n",
       "      <td>1</td>\n",
       "      <td>163</td>\n",
       "      <td>1</td>\n",
       "      <td>0.6</td>\n",
       "      <td>2</td>\n",
       "      <td>0</td>\n",
       "      <td>2</td>\n",
       "      <td>1</td>\n",
       "    </tr>\n",
       "  </tbody>\n",
       "</table>\n",
       "</div>"
      ],
      "text/plain": [
       "   age  sex  cp  trestbps  chol  fbs  restecg  thalach  exang  oldpeak  slope  \\\n",
       "0   63    1   3       145   233    1        0      150      0      2.3      0   \n",
       "1   37    1   2       130   250    0        1      187      0      3.5      0   \n",
       "2   41    0   1       130   204    0        0      172      0      1.4      2   \n",
       "3   56    1   1       120   236    0        1      178      0      0.8      2   \n",
       "4   57    0   0       120   354    0        1      163      1      0.6      2   \n",
       "\n",
       "   ca  thal  target  \n",
       "0   0     1       1  \n",
       "1   0     2       1  \n",
       "2   0     2       1  \n",
       "3   0     2       1  \n",
       "4   0     2       1  "
      ]
     },
     "execution_count": 4,
     "metadata": {},
     "output_type": "execute_result"
    }
   ],
   "source": [
    "df.head()"
   ]
  },
  {
   "cell_type": "markdown",
   "metadata": {},
   "source": [
    "Revisando los datos desde Kaggle, se observa que los datos estan completos pues al revisar en el formato \"Column View\" podemos ver que estan los 303 datos para todas las columnas. Además, lo confirmamos a continuación en donde se cuenta la cantidad de valores faltantes"
   ]
  },
  {
   "cell_type": "code",
   "execution_count": 5,
   "metadata": {},
   "outputs": [
    {
     "name": "stdout",
     "output_type": "stream",
     "text": [
      "La cantidad de valores faltantes es de:  0\n"
     ]
    }
   ],
   "source": [
    "print(\"La cantidad de valores faltantes es de: \",df.isnull().sum().sum())"
   ]
  },
  {
   "cell_type": "markdown",
   "metadata": {},
   "source": [
    "\n",
    "Ahora dividimos las variables en grupos para graficarlas.\n",
    "<br>\n",
    "Nuestras variables numericas son:\n",
    "<br>\n",
    "1. age\n",
    "<br>\n",
    "2. trestbps\n",
    "<br>\n",
    "3. chol\n",
    "<br>\n",
    "4. thalach\n",
    "<br>\n",
    "5. oldpeak\n",
    "\n",
    "\n",
    "Pues estas variables se caracterizan por ser continuas.\n",
    "\n",
    "\n",
    "Nuestras variables categoricas son:\n",
    "<br>\n",
    "1. sex\n",
    "<br>\n",
    "2. cp\n",
    "<br>\n",
    "3. fbs\n",
    "<br>\n",
    "4. restecg\n",
    "<br>\n",
    "5. exang\n",
    "<br>\n",
    "6. slope\n",
    "<br>\n",
    "7. ca\n",
    "<br>\n",
    "8. thal\n",
    "<br>\n",
    "9. target\n",
    "<br>\n",
    "Ya que estas estan definidas en unos intervalos especificos."
   ]
  },
  {
   "cell_type": "code",
   "execution_count": 6,
   "metadata": {
    "scrolled": true
   },
   "outputs": [
    {
     "data": {
      "image/png": "[encoded data removed]",
      "text/plain": [
       "<Figure size 1080x360 with 17 Axes>"
      ]
     },
     "metadata": {
      "needs_background": "light"
     },
     "output_type": "display_data"
    }
   ],
   "source": [
    "f, ax = plt.subplots(2, 9, figsize = (15,5))\n",
    "#Definimos las numericas \n",
    "ax[0, 0].hist(df.age)\n",
    "ax[0, 0].set_title('age')\n",
    "\n",
    "ax[0, 1].hist(df.trestbps)\n",
    "ax[0, 1].set_title('trestbps')\n",
    "\n",
    "ax[0, 2].hist(df.chol)\n",
    "ax[0, 2].set_title('chol')\n",
    "\n",
    "ax[0, 3].hist(df.thalach)\n",
    "ax[0, 3].set_title('thalach')\n",
    "\n",
    "ax[0, 4].hist(df.oldpeak)\n",
    "ax[0, 4].set_title('oldpeak')\n",
    "#Definimos las categoricas\n",
    "#sex\n",
    "\n",
    "sexInf= [df.sex.sum(), df.sex.shape[0]- df.sex.sum()]\n",
    "ax[1, 0].pie(sexInf, labels = ['M','F'])\n",
    "ax[1, 0].axis('equal')\n",
    "ax[1, 0].set_title('sex')\n",
    "\n",
    "#cp\n",
    "cpInf = []\n",
    "cpInf.append((df['cp'] == 0).sum())\n",
    "cpInf.append((df['cp'] == 1).sum())\n",
    "cpInf.append((df['cp'] == 2).sum())\n",
    "cpInf.append((df['cp'] == 3).sum())\n",
    "ax[1, 1].pie(cpInf, labels =['0','1','2','3'])\n",
    "ax[1, 1].axis('equal')\n",
    "ax[1, 1].set_title('cp')\n",
    "\n",
    "#fbs\n",
    "fbsInf = [df.fbs.sum(), df.fbs.shape[0] - df.fbs.sum()]\n",
    "ax[1, 2].pie(fbsInf, labels = ['1', '0'])\n",
    "ax[1, 2].axis('equal')\n",
    "ax[1, 2].set_title('fbs')\n",
    "\n",
    "#restecg\n",
    "restecgInf = []\n",
    "restecgInf.append((df['restecg'] == 0).sum())\n",
    "restecgInf.append((df['restecg'] == 1).sum())\n",
    "restecgInf.append((df['restecg'] == 2).sum())\n",
    "ax[1, 3].pie(restecgInf, labels = ['0', '1', '2'])\n",
    "ax[1, 3].axis('equal')\n",
    "ax[1, 3].set_title('restecg')\n",
    "\n",
    "#exang\n",
    "exangInf = [df.exang.sum(), df.exang.shape[0] - df.exang.sum()]\n",
    "ax[1, 4].pie(exangInf, labels = ['1','0'])\n",
    "ax[1, 4].axis('equal')\n",
    "ax[1, 4].set_title('exang')\n",
    "\n",
    "#slope\n",
    "slopeInf = []\n",
    "slopeInf.append((df['slope'] == 0).sum())\n",
    "slopeInf.append((df['slope'] == 1).sum())\n",
    "slopeInf.append((df['slope'] == 2).sum())\n",
    "ax[1, 5].pie(slopeInf, labels=['0','1','2'])\n",
    "ax[1, 5].axis('equal')\n",
    "ax[1, 5].set_title('slope')\n",
    "\n",
    "#ca\n",
    "caInf = []\n",
    "caInf.append((df['ca'] == 0).sum())\n",
    "caInf.append((df['ca'] == 1).sum())\n",
    "caInf.append((df['ca'] == 2).sum())\n",
    "caInf.append((df['ca'] == 3).sum())\n",
    "caInf.append((df['ca'] == 4).sum())\n",
    "ax[1, 6].pie(caInf, labels = ['0','1','2','3','4'])\n",
    "ax[1, 6].axis('equal')\n",
    "ax[1, 6].set_title('ca')\n",
    "\n",
    "#thal \n",
    "thalInf = []\n",
    "thalInf.append((df['thal'] == 0).sum())\n",
    "thalInf.append((df['thal'] == 1).sum())\n",
    "thalInf.append((df['thal'] == 2).sum())\n",
    "thalInf.append((df['thal'] == 3).sum())\n",
    "ax[1, 7].pie(thalInf, labels = ['0','1','2','3'])\n",
    "ax[1, 7].axis('equal')\n",
    "ax[1, 7].set_title('thal')\n",
    "\n",
    "#target\n",
    "targetInf = [df.target.sum(), df.target.shape[0] - df.target.sum()]\n",
    "ax[1, 8].pie(targetInf, labels = ['1','0'])\n",
    "ax[1, 8].axis('equal')\n",
    "ax[1, 8].set_title('target')\n",
    "\n",
    "\n",
    "y = ['numericas','categoricas']\n",
    "i = 0\n",
    "\"\"\"\n",
    "for ax1 in ax.flat:\n",
    "    if (i < 6):\n",
    "        ax1.set(xlabel = '', ylabel=y[0])\n",
    "    else:\n",
    "        ax1.set(xlabel = '', ylabel=y[1])\n",
    "    i += 1\n",
    "\"\"\"\n",
    "# Hide x labels and tick labels for top plots and y ticks for right plots.\n",
    "for ax1 in ax.flat:\n",
    "    ax1.label_outer()\n",
    "    \n",
    "f.delaxes(ax.flatten()[6])\n"
   ]
  },
  {
   "cell_type": "markdown",
   "metadata": {},
   "source": [
    "Notamos una diferencia con lo planteado por la definicion de las columnas, para la variable Categorica \"ca\", se proponen valores de 0 a 3 y hay cinco con valor 4. Para la variable Categorica \"thal\" de igual forma se proponen los valores 3, 6 y 7 pero se encuentran valores 0, 1, 2 y 3. "
   ]
  },
  {
   "cell_type": "markdown",
   "metadata": {},
   "source": [
    "# Entrenamiento y Prueba\n",
    "A continuación se divide el DataFrame en 80% entrenamiento y 20% prueba.\n",
    "\n",
    "##### A partir de este momento usaremos random_state = semilla en la medida de lo posible para desarrollar estas simulaciones en entornos mas controlados y con menos propagación de error"
   ]
  },
  {
   "cell_type": "code",
   "execution_count": 7,
   "metadata": {},
   "outputs": [],
   "source": [
    "info = [\"age\",\"sex\",\"cp\",\"trestbps\",\"chol\",\"fbs\",\"restecg\",\"thalach\",\"exang\",\"oldpeak\",\"slope\",\"ca\",\"thal\"]\n",
    "columnas = df[info].values\n",
    "target = df[\"target\"].values\n",
    "semilla = 42\n",
    "\n",
    "X_train, X_test, y_train, y_test = train_test_split(columnas, target, test_size=0.2, random_state=semilla)"
   ]
  },
  {
   "cell_type": "markdown",
   "metadata": {},
   "source": [
    "# Arbol de Decisión\n",
    "Una vez se ha dividido el DataFrame en 20% para prueba y 80% entrenamiento, comenzamos a desarrollar el arbol de decisión. \n",
    "\n",
    "En el DecisionTreeClassifier se establecen \n",
    "1. min_samples_split = 3 para que los nodos se expandan mientras tengan al menos 3 miembros, de lo contrario se consideran hojas.\n",
    "2. random_state = semilla para tener un mayor control usando este 42 de semilla del proceso. Se puede remover el random_state para tener resultados diferentes en cada ejecución.\n",
    "\n",
    "Finalmente decidimos agregar una profundidad maxima (max_depth = 5) puesto que lo encontramos mas preciso y un poco mas amigable a la vista para ser interpretado."
   ]
  },
  {
   "cell_type": "code",
   "execution_count": 8,
   "metadata": {},
   "outputs": [
    {
     "name": "stdout",
     "output_type": "stream",
     "text": [
      "La precision para el conjunto de entrenamiento es de:  0.9090909090909091\n",
      "La precision para el conjunto de prueba es de:  0.819672131147541\n"
     ]
    }
   ],
   "source": [
    "clasificadorArbol = tree.DecisionTreeClassifier(max_depth = 5, min_samples_split = 3, random_state = semilla)\n",
    "clasificadorArbol = clasificadorArbol.fit(X_train, y_train)\n",
    "\n",
    "print(\"La precision para el conjunto de entrenamiento es de: \", clasificadorArbol.score(X_train, y_train))\n",
    "print(\"La precision para el conjunto de prueba es de: \", clasificadorArbol.score(X_test, y_test))"
   ]
  },
  {
   "cell_type": "markdown",
   "metadata": {},
   "source": [
    "#### Ahora mostramos la matriz de confusion para el Arbol de Decisión."
   ]
  },
  {
   "cell_type": "code",
   "execution_count": 9,
   "metadata": {},
   "outputs": [
    {
     "name": "stdout",
     "output_type": "stream",
     "text": [
      "Matriz de confusión en Entrenamiento: \n",
      "[[ 89   2]\n",
      " [ 20 131]]\n",
      "Matriz de confusión en Prueba: \n",
      "[[23  5]\n",
      " [ 6 27]]\n"
     ]
    }
   ],
   "source": [
    "#Print the score on the train data\n",
    "print(\"Matriz de confusión en Entrenamiento: \")\n",
    "print(confusion_matrix(clasificadorArbol.predict(X_train), y_train))\n",
    "print(\"Matriz de confusión en Prueba: \")\n",
    "print(confusion_matrix(clasificadorArbol.predict(X_test), y_test))\n"
   ]
  },
  {
   "cell_type": "markdown",
   "metadata": {},
   "source": [
    "#### Significados para la matriz de confusión:\n",
    "\n",
    "1. matriz[0][0] = Realmente enfermos\n",
    "2. matriz[0][1] = Falsamente enfermos\n",
    "3. matriz[1][0] = Falsamente sanos\n",
    "4. matriz[1][1] = Realmente sanos"
   ]
  },
  {
   "cell_type": "markdown",
   "metadata": {},
   "source": [
    "### Representación del Arbol de Decisión\n",
    "\n",
    "Esta representación requiere de Graphviz por lo cual puede fallar no a falta de librerias sino del programa directamente instalado en donde se ejecuta con su variable de entorno, de ser necesario se deberia instalar según se propone en la pagina oficial graphviz.org."
   ]
  },
  {
   "cell_type": "code",
   "execution_count": 10,
   "metadata": {
    "scrolled": true
   },
   "outputs": [
    {
     "data": {
      "image/png": "[encoded data removed]",
      "text/plain": [
       "<Figure size 1440x1440 with 1 Axes>"
      ]
     },
     "metadata": {
      "needs_background": "light"
     },
     "output_type": "display_data"
    }
   ],
   "source": [
    "def show_tree(tree, features, path):\n",
    "    f = io.StringIO()\n",
    "    export_graphviz(tree,out_file=f, feature_names=features)\n",
    "    pydotplus.graph_from_dot_data(f.getvalue()).write_png(path)\n",
    "    img = plt.imread(path)\n",
    "    plt.rcParams[\"figure.figsize\"] = (20,20)\n",
    "    plt.imshow(img)\n",
    "show_tree(clasificadorArbol, info, 'dec_tree_01.png')"
   ]
  },
  {
   "cell_type": "markdown",
   "metadata": {},
   "source": [
    "## Interpretación del Arbol de decisión\n",
    "\n",
    "Los arboles de decisión tratan de predecir algo ya que se han dado una serie de columnas, funciona de forma parecida a dividir y venceras, por lo que trata de planear un resultado con base a la información perteneciente a las columnas que tiene, en este caso se trata de predecir Target usando las columnas que tenemos como age, cp, thal, entre otras.\n",
    "\n",
    "\n",
    "Para predecirlo, este algoritmo evalua los valores dadas las columnas del conjunto de datos (también suelen ser llamadas features) fijandose una condición respecto a la columna, si cumple la condicion se agrega a un subconjunto que se dispondra al lado izquierdo del nodo, sino se agrega al subconjunto a la derecha del nodo. Luego de esto, se fija en un coeficiente \"gini\" para saber la pureza del nuevo conjunto.\n",
    "\n",
    "\n",
    "Cuando el coeficiente \"gini\" es 0.0 significa que el conjunto de datos por evaluar en esa rama(samples), coincide en su valor objetivo por completo(values). Si es diferente a 0.0, en medida de cuán alto sea, significa que no coinciden sus valores objetivos por lo tanto es posible expandirlo en nuevas ramas. \n",
    "\n",
    "\n",
    "Por lo tanto, podemos ver que para cada caso, evalua segun el coeficiente gini si ya se llego a una hoja del arbol o si puede continuar dividiendo su subconjunto de datos y lo continua haciendo de manera recursiva.\n",
    "\n",
    "\n",
    "Esta opción es ideal para tener una interpretación mas \"humana\" ya que se busca relacionar los parametros con el objetivo."
   ]
  },
  {
   "cell_type": "markdown",
   "metadata": {},
   "source": [
    "# Naive Bayes\n",
    "\n",
    "Ahora utilizamos los datos ya separados con un modelo Naive Bayes."
   ]
  },
  {
   "cell_type": "code",
   "execution_count": 11,
   "metadata": {},
   "outputs": [
    {
     "name": "stdout",
     "output_type": "stream",
     "text": [
      "La precision para el conjunto de entrenamiento es de:  0.8181818181818182\n",
      "La precision para el conjunto de prueba es de:  0.8688524590163934\n"
     ]
    }
   ],
   "source": [
    "gnb = GaussianNB()\n",
    "clasificadorBayes = gnb.fit(X_train, y_train)\n",
    "print(\"La precision para el conjunto de entrenamiento es de: \",clasificadorBayes.score(X_train, y_train))\n",
    "print(\"La precision para el conjunto de prueba es de: \", clasificadorBayes.score(X_test, y_test))"
   ]
  },
  {
   "cell_type": "markdown",
   "metadata": {},
   "source": [
    "## Matriz de confusión para el modelo Naive Bayes"
   ]
  },
  {
   "cell_type": "code",
   "execution_count": 12,
   "metadata": {},
   "outputs": [
    {
     "name": "stdout",
     "output_type": "stream",
     "text": [
      "Matriz de confusión en Entrenamiento: \n",
      "[[ 84  19]\n",
      " [ 25 114]]\n",
      "Matriz de confusión en Prueba: \n",
      "[[26  5]\n",
      " [ 3 27]]\n"
     ]
    }
   ],
   "source": [
    "print(\"Matriz de confusión en Entrenamiento: \")\n",
    "print(confusion_matrix(clasificadorBayes.predict(X_train), y_train))\n",
    "print(\"Matriz de confusión en Prueba: \")\n",
    "print(confusion_matrix(clasificadorBayes.predict(X_test), y_test))"
   ]
  },
  {
   "cell_type": "markdown",
   "metadata": {},
   "source": [
    "# Interpretación Naive Bayes\n",
    "\n",
    "Respecto a este modelo no hay mucho por interpretar, pues internamente su funcionamiento es mas simple y directo. Este modelo da igual peso a todos los \"features\" y trata de encasillar según su conocimiento adquirido, por lo tanto ve cuales features indican que el target es 1 o 0 y con el que mas coincide, a ese lo asigna.  "
   ]
  },
  {
   "cell_type": "markdown",
   "metadata": {},
   "source": [
    "# Modelo Red Neuronal\n",
    "\n",
    "Ahora configuramos una red neuronal para ser entrenada con el DataFrame.\n",
    "\n",
    "\n",
    "Primeramente escalamos los datos para que funcione correctamente la red neuronal.\n"
   ]
  },
  {
   "cell_type": "code",
   "execution_count": 13,
   "metadata": {},
   "outputs": [],
   "source": [
    "lr= 0.001 #learning rate \n",
    "scaler = StandardScaler()\n",
    "scaler.fit(X_train)\n",
    "X_train = scaler.transform(X_train)  \n",
    "X_test = scaler.transform(X_test)"
   ]
  },
  {
   "cell_type": "markdown",
   "metadata": {},
   "source": [
    "Ahora se establece la funcion de activación logistic que es la funcion sigmoid, el learning_rate_init se aplica dado que el solver es 'adam' y se establece una semilla en el random_state para tener un mejor control del proceso."
   ]
  },
  {
   "cell_type": "code",
   "execution_count": 14,
   "metadata": {},
   "outputs": [
    {
     "data": {
      "text/plain": [
       "MLPClassifier(activation='logistic', alpha=0.0001, batch_size='auto',\n",
       "              beta_1=0.9, beta_2=0.999, early_stopping=False, epsilon=1e-08,\n",
       "              hidden_layer_sizes=(4, 2), learning_rate='constant',\n",
       "              learning_rate_init=0.001, max_iter=1000, momentum=0.9,\n",
       "              n_iter_no_change=10, nesterovs_momentum=True, power_t=0.5,\n",
       "              random_state=42, shuffle=True, solver='adam', tol=0.0001,\n",
       "              validation_fraction=0.1, verbose=False, warm_start=False)"
      ]
     },
     "execution_count": 14,
     "metadata": {},
     "output_type": "execute_result"
    }
   ],
   "source": [
    "clasificadorRed= sk.neural_network.MLPClassifier(activation='logistic', max_iter=1000, hidden_layer_sizes=(4,2),\n",
    "                                                 learning_rate_init=lr,solver='adam', random_state = semilla)\n",
    "clasificadorRed.fit(X_train, y_train)"
   ]
  },
  {
   "cell_type": "markdown",
   "metadata": {},
   "source": [
    "##### Ahora vemos la precision y matrices de confusion"
   ]
  },
  {
   "cell_type": "code",
   "execution_count": 15,
   "metadata": {},
   "outputs": [
    {
     "name": "stdout",
     "output_type": "stream",
     "text": [
      "La precision para el conjunto de entrenamiento es de:  0.8801652892561983\n",
      "La precision para el conjunto de prueba es de:  0.8688524590163934\n",
      "Matriz de confusión en Entrenamiento: \n",
      "[[ 89   9]\n",
      " [ 20 124]]\n",
      "Matriz de confusión en Prueba: \n",
      "[[25  4]\n",
      " [ 4 28]]\n"
     ]
    }
   ],
   "source": [
    "print(\"La precision para el conjunto de entrenamiento es de: \", clasificadorRed.score(X_train, y_train))\n",
    "print(\"La precision para el conjunto de prueba es de: \",clasificadorRed.score(X_test, y_test))\n",
    "print(\"Matriz de confusión en Entrenamiento: \")\n",
    "print(confusion_matrix(clasificadorRed.predict(X_train), y_train))\n",
    "print(\"Matriz de confusión en Prueba: \")\n",
    "print(confusion_matrix(clasificadorRed.predict(X_test), y_test))"
   ]
  },
  {
   "cell_type": "markdown",
   "metadata": {},
   "source": [
    "# Interpretación Red Neuronal\n",
    "\n",
    "La red neuronal internamente otorga unos pesos a los features, estos pesos se generan en la relación que tienen con el objetivo, por lo tanto estos pesos son los que deciden si una persona sufre problemas de corazón o no, se hace una recolección de los pesos que estan distribuidos en las capas y neuronas y se decide cual sera tu valor objetivo. "
   ]
  },
  {
   "cell_type": "markdown",
   "metadata": {},
   "source": [
    "# Comparación de Resultados\n",
    "\n",
    "Para realizar esta comparación nos basamos en los resultados obtenidos de utilizar la semilla = 42 que se aplica a los random_state.\n",
    "<br>Los resultados obtenidos para los algoritmos fueron los siguiente:\n",
    "\n",
    "#### Arbol de Decisión\n",
    "La precision para el conjunto de entrenamiento es de:  0.9090909090909091\n",
    "<br>La precision para el conjunto de prueba es de:  0.819672131147541\n",
    "\n",
    "#### Naive Bayes\n",
    "La precision para el conjunto de entrenamiento es de:  0.8181818181818182\n",
    "<br>La precision para el conjunto de prueba es de:  0.8688524590163934\n",
    "\n",
    "#### Red Neuronal\n",
    "La precision para el conjunto de entrenamiento es de:  0.8801652892561983\n",
    "<br>La precision para el conjunto de prueba es de:  0.8688524590163934\n",
    "\n",
    "## Precisión\n",
    "\n",
    "Con base a los resultados obtenidos se puede observar que la precisión mas alta para el conjunto de prueba con las configuraciones propuestas, la proporcionan los modelos de Naive Bayes y de Red neuronal pues ambos coinciden en 0.8688524590163934. Aunque en este caso coinciden sus valores, sus resultados son diferentes como se puede observar en la matriz de confusión.\n",
    "\n",
    "## Estabilidad\n",
    "\n",
    "Considerando la Estabilidad como la diferencia de precisión entre el conjunto de Entrenamiento y el conjunto de Prueba, se obtiene para cada modelo:\n",
    "\n",
    "Estabilidad Arbol de Decisión = 0.08941877794336806\n",
    "<br>Estabilidad Naive Bayes = 0.050670640834575176\n",
    "<br>Estabilidad Red Neuronal = 0.011312830239804894\n",
    "\n",
    "Por lo tanto, la mayor estabilidad la ofrece la Red Neuronal, ya que es 3.93% mejor a la estabilidad que Naive Bayes provee y 7.81% mas estable que el Arbol de Decisión.\n",
    "\n",
    "## Interpretabilidad\n",
    "\n",
    "En cuanto a Interpretabilidad, el Arbol de Decisión permite un mejor manejo de la información generada, pues es posible graficar su toma de decisiones y ponerla en practica de una forma \"tangible\", mientras con el modelo de Naive Bayes o de Red Neuronal, el sistema de asignación es una caja negra y no hay forma de conocer cómo se genera un resultado. Por estas razones, el modelo mas interpretable para determinar enfermedades del corazón seria el Arbol de Decisión.  \n",
    "\n",
    "# Opinion del grupo\n",
    "\n",
    "En este caso nos inclinamos por elegir el metodo propuesto en la Red Neuronal, pues tiene una gran precisión y muy alta estabilidad, por lo tanto consideramos que nos puede proveer los mejores resultados aunque no tengamos la posibilidad de interpretar la forma en que son analizados los datos que se le proveen.\n",
    "<br>Cabe resaltar que pueden encontrarse resultados aun mas precisos con la Red Neuronal según la configuración que se decida, en este proyecto decidimos utilizar la mas estable a la que llegamos, descartando así otras con las cuales llegamos a niveles de precisión mejores. "
   ]
  }
 ],
 "metadata": {
  "kernelspec": {
   "display_name": "Python 3",
   "language": "python",
   "name": "python3"
  },
  "language_info": {
   "codemirror_mode": {
    "name": "ipython",
    "version": 3
   },
   "file_extension": ".py",
   "mimetype": "text/x-python",
   "name": "python",
   "nbconvert_exporter": "python",
   "pygments_lexer": "ipython3",
   "version": "3.7.3"
  }
 },
 "nbformat": 4,
 "nbformat_minor": 2
}
